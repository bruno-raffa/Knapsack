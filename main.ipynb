{
 "cells": [
  {
   "cell_type": "code",
   "execution_count": 1,
   "metadata": {},
   "outputs": [],
   "source": [
    "#! pip install dwave-ocean-sdk"
   ]
  },
  {
   "cell_type": "code",
   "execution_count": 2,
   "metadata": {},
   "outputs": [],
   "source": [
    "import os\n",
    "import itertools\n",
    "import click\n",
    "import pandas as pd\n",
    "import numpy as np\n",
    "from dwave.system import LeapHybridCQMSampler, LeapHybridSampler\n",
    "from dimod import ConstrainedQuadraticModel, BinaryQuadraticModel, QuadraticModel, quicksum, dimod\n",
    "from dotenv import load_dotenv, find_dotenv"
   ]
  },
  {
   "cell_type": "code",
   "execution_count": 3,
   "metadata": {},
   "outputs": [],
   "source": [
    "# Load Env Variables\n",
    "load_dotenv(find_dotenv())\n",
    "token = os.environ['DWAVE_API_KEY'] "
   ]
  },
  {
   "cell_type": "code",
   "execution_count": 4,
   "metadata": {},
   "outputs": [],
   "source": [
    "def parse_inputs(data_file, capacity):\n",
    "    \"\"\"Parse user input and files for data to build CQM.\n",
    "\n",
    "    Args:\n",
    "        data_file (csv file):\n",
    "            File of items (weight & cost) slated to ship.\n",
    "        capacity (int):\n",
    "            Max weight the shipping container can accept.\n",
    "\n",
    "    Returns:\n",
    "        Costs, weights, and capacity.\n",
    "    \"\"\"\n",
    "    df = pd.read_csv(data_file, names=['cost', 'weight'])\n",
    "\n",
    "    if not capacity:\n",
    "        capacity = int(0.8 * sum(df['weight']))\n",
    "        print(\"\\nSetting weight capacity to 80% of total: {}\".format(str(capacity)))\n",
    "\n",
    "    return df['cost'], df['weight'], capacity"
   ]
  },
  {
   "cell_type": "code",
   "execution_count": 5,
   "metadata": {},
   "outputs": [],
   "source": [
    "def build_knapsack_cqm(costs, weights, max_weight):\n",
    "    \"\"\"Construct a CQM for the knapsack problem.\n",
    "\n",
    "    Args:\n",
    "        costs (array-like):\n",
    "            Array of costs for the items.\n",
    "        weights (array-like):\n",
    "            Array of weights for the items.\n",
    "        max_weight (int):\n",
    "            Maximum allowable weight for the knapsack.\n",
    "\n",
    "    Returns:\n",
    "        Constrained quadratic model instance that represents the knapsack problem.\n",
    "    \"\"\"\n",
    "    num_items = len(costs)\n",
    "\n",
    "    # y_j indicates that item i is used\n",
    "    y_labels = [f'{i}' for i in range(num_items)]\n",
    "    print(\"\\nBuilding a CQM for {} items.\".format(str(num_items)))\n",
    "\n",
    "    cqm = ConstrainedQuadraticModel()\n",
    "\n",
    "    # Set the objective: maximime the profits associated with the value of the items\n",
    "    objective = QuadraticModel()\n",
    "    objective.add_linear_from(\n",
    "                        (\n",
    "                        (y_labels[i], -costs[i]) for i in range(num_items) \n",
    "                        ), \n",
    "                        default_vartype='BINARY'\n",
    "                        )\n",
    "\n",
    "    cqm.set_objective(objective)\n",
    "\n",
    "    # Set the constraint related to the knapsack capacity\n",
    "    constraint = QuadraticModel()\n",
    "    constraint.add_linear_from(\n",
    "                    (\n",
    "                    (y_labels[i], weights[i]) for i in range(num_items) \n",
    "                    ), \n",
    "                    default_vartype='BINARY'\n",
    "                    )\n",
    "    cqm.add_constraint(constraint, sense=\"<=\", rhs=max_weight, label='capacity')\n",
    "    return cqm"
   ]
  },
  {
   "cell_type": "code",
   "execution_count": 6,
   "metadata": {},
   "outputs": [],
   "source": [
    "def parse_solution(sampleset, costs, weights):\n",
    "    \"\"\"Translate the best sample returned from solver to shipped items.\n",
    "\n",
    "    Args:\n",
    "\n",
    "        sampleset (dimod.Sampleset):\n",
    "            Samples returned from the solver.\n",
    "        costs (array-like):\n",
    "            Array of costs for the items.\n",
    "        weights (array-like):\n",
    "            Array of weights for the items.\n",
    "    \"\"\"\n",
    "    feasible_sampleset = sampleset.filter(lambda row: row.is_feasible)\n",
    "\n",
    "    if not len(feasible_sampleset):\n",
    "        raise ValueError(\"No feasible solution found\")\n",
    "\n",
    "    best = feasible_sampleset.first\n",
    "\n",
    "    selected_item_indices = [key for key, val in best.sample.items() if val==1.0]\n",
    "    selected_item_indices = [eval(i) for i in selected_item_indices]\n",
    "    selected_weights = list(weights.loc[selected_item_indices])\n",
    "    selected_costs = list(costs.loc[selected_item_indices])\n",
    "    \n",
    "    print(\"\\nFound best solution at energy {}\".format(best.energy))\n",
    "    print(\"\\nSelected item numbers (0-indexed):\", selected_item_indices)\n",
    "    print(\"\\nSelected item weights: {}, total = {}\".format(selected_weights, sum(selected_weights)))\n",
    "    print(\"\\nSelected item costs: {}, total = {}\".format(selected_costs, sum(selected_costs)))"
   ]
  },
  {
   "cell_type": "code",
   "execution_count": 7,
   "metadata": {},
   "outputs": [],
   "source": [
    "filename = 'https://raw.githubusercontent.com/dwave-examples/knapsack/master/data/small.csv'\n",
    "capacity = ''"
   ]
  },
  {
   "cell_type": "code",
   "execution_count": 8,
   "metadata": {},
   "outputs": [
    {
     "name": "stdout",
     "output_type": "stream",
     "text": [
      "\n",
      "Setting weight capacity to 80% of total: 89\n"
     ]
    }
   ],
   "source": [
    "costs, weights, capacity = parse_inputs(filename, capacity)"
   ]
  },
  {
   "cell_type": "code",
   "execution_count": 9,
   "metadata": {},
   "outputs": [
    {
     "name": "stdout",
     "output_type": "stream",
     "text": [
      "\n",
      "Building a CQM for 7 items.\n"
     ]
    }
   ],
   "source": [
    "cqm = build_knapsack_cqm(costs, weights, capacity)"
   ]
  },
  {
   "cell_type": "code",
   "execution_count": 10,
   "metadata": {},
   "outputs": [
    {
     "name": "stdout",
     "output_type": "stream",
     "text": [
      "Submitting CQM to solver hybrid_constrained_quadratic_model_version1.\n"
     ]
    }
   ],
   "source": [
    "sampler = LeapHybridCQMSampler(token=token)\n",
    "print(\"Submitting CQM to solver {}.\".format(sampler.solver.name))\n",
    "sampleset = sampler.sample_cqm(cqm, label='Example - Knapsack')"
   ]
  },
  {
   "cell_type": "code",
   "execution_count": 11,
   "metadata": {},
   "outputs": [
    {
     "name": "stdout",
     "output_type": "stream",
     "text": [
      "\n",
      "Found best solution at energy -340.0\n",
      "\n",
      "Selected item numbers (0-indexed): [1, 3, 4, 5, 6]\n",
      "\n",
      "Selected item weights: [27, 17, 20, 10, 15], total = 89\n",
      "\n",
      "Selected item costs: [85, 50, 70, 80, 55], total = 340\n"
     ]
    }
   ],
   "source": [
    "parse_solution(sampleset, costs, weights)"
   ]
  }
 ],
 "metadata": {
  "kernelspec": {
   "display_name": "base",
   "language": "python",
   "name": "python3"
  },
  "language_info": {
   "codemirror_mode": {
    "name": "ipython",
    "version": 3
   },
   "file_extension": ".py",
   "mimetype": "text/x-python",
   "name": "python",
   "nbconvert_exporter": "python",
   "pygments_lexer": "ipython3",
   "version": "3.10.9"
  },
  "orig_nbformat": 4
 },
 "nbformat": 4,
 "nbformat_minor": 2
}
